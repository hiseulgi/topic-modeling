{
 "cells": [
  {
   "attachments": {},
   "cell_type": "markdown",
   "metadata": {},
   "source": [
    "# Topic Modeling Menggunakan Latent Dirchlect Allocation \n",
    "## (Part 1): Pre-processing Data dengan Python\n",
    "Ref: [Klik Me!](https://medium.com/@listari.tari/topic-modelling-menggunakan-latent-dirchlect-allocation-part-1-pre-processing-data-dengan-python-87bf5c580923)\n",
    "\n",
    "- **“Kata”** dianggap sebagai unit dasar dari data diskrit dalam dokumen, didefinisikan sebagai item dari kosa kata yang diberi indeks untuk setiap kata unik pada dokumen. \n",
    "- **“Dokumen”** adalah susunan N katakata. \n",
    "- **\"Corpus\"** adalah kumpulan M dokumen.\n",
    "- **\"Corpora\"** merupakan bentuk jamak dari corpus.\n",
    "- **“Topic”** adalah distribusi dari beberapa kosakata yang bersifat tetap. \n",
    " \n",
    "Secara sederhana, **setiap dokumen dalam corpus** mengandung proporsi tersendiri dari topik-topik yang dibahas sesuai kata-kata yang terkandung di dalamnya. Topic modeling telah menjadi bidang yang diminati oleh sebagian besar penulis dari bidang Text Mining, Natural Language Processing, dan Machine Learning (Verma & Gahier 2015)."
   ]
  },
  {
   "cell_type": "code",
   "execution_count": 313,
   "metadata": {},
   "outputs": [],
   "source": [
    "# import nltk\n",
    "# nltk.download('stopwords')"
   ]
  },
  {
   "cell_type": "code",
   "execution_count": 314,
   "metadata": {},
   "outputs": [],
   "source": [
    "import pandas as pd\n",
    "import numpy as np\n",
    "import re, string, unicodedata  #modul regular expression\n",
    "import nltk\n",
    "from nltk import word_tokenize, sent_tokenize  #Paket ini membagi teks input menjadi kata-kata\n",
    "from nltk.corpus import stopwords\n",
    "import json\n",
    "import matplotlib.pyplot as plt\n",
    "\n",
    "# sastrawi - stemming library (bahasa indonesia)\n",
    "from Sastrawi.Stemmer.StemmerFactory import StemmerFactory\n",
    "\n",
    "# tqdm - progress bar library\n",
    "from tqdm import tqdm"
   ]
  },
  {
   "cell_type": "code",
   "execution_count": 315,
   "metadata": {},
   "outputs": [],
   "source": [
    "df = pd.read_csv(\"../datasets/target_user_comment.csv\")"
   ]
  },
  {
   "cell_type": "code",
   "execution_count": 316,
   "metadata": {},
   "outputs": [
    {
     "data": {
      "text/plain": [
       "0      Izin bertnya apakah studi idenpenden mitra pro...\n",
       "1                                 Dapat uang saku gaksih\n",
       "2              @rwrt1.0 kelas full english kak batch ini\n",
       "3                          Saya, saya bang ga lolos msib\n",
       "4                                                     🔥🔥\n",
       "                             ...                        \n",
       "577    @spontanahuy tanggal 15 terakhirnya 🙏🏻 ada bbr...\n",
       "578    @spontanahuy ga ush berharap lgi udh tgl segin...\n",
       "579                  @spontanahuy asliii butuh kepastian\n",
       "580    Siapa saja yg lolos utk ikut survei diinfokan ...\n",
       "581    Jadi min untuk pengumuman magang merdeka nya u...\n",
       "Name: comment, Length: 582, dtype: object"
      ]
     },
     "execution_count": 316,
     "metadata": {},
     "output_type": "execute_result"
    }
   ],
   "source": [
    "df_comment = df['comment']\n",
    "df_comment"
   ]
  },
  {
   "attachments": {},
   "cell_type": "markdown",
   "metadata": {},
   "source": [
    "## Data Pre-processing"
   ]
  },
  {
   "cell_type": "code",
   "execution_count": 317,
   "metadata": {},
   "outputs": [],
   "source": [
    "replacements = {}\n",
    "\n",
    "# Read in the replacements from the file\n",
    "with open('combined_slang_words.txt', 'r') as f:\n",
    "    replacements = json.load(f)"
   ]
  },
  {
   "cell_type": "code",
   "execution_count": 318,
   "metadata": {},
   "outputs": [],
   "source": [
    "stop_words = set(stopwords.words('indonesian'))\n",
    "stop_words.update([\n",
    "    'min', 'ga', 'gak', 'iya', 'ya', 'sih', 'gk', 'kak', 'bang', 'pak', 'sir', 'bro', 'sob', 'sdr','mbak', 'mba', 'kakak', 'kakaknya', 'kakakku', 'nya', 'bro_swryz', 'swryz', 'adrian', 'mas', \n",
    "])"
   ]
  },
  {
   "cell_type": "code",
   "execution_count": 319,
   "metadata": {},
   "outputs": [
    {
     "name": "stderr",
     "output_type": "stream",
     "text": [
      "<>:45: DeprecationWarning: invalid escape sequence \\d\n",
      "<>:54: DeprecationWarning: invalid escape sequence \\s\n",
      "<>:45: DeprecationWarning: invalid escape sequence \\d\n",
      "<>:54: DeprecationWarning: invalid escape sequence \\s\n",
      "/tmp/ipykernel_32361/690602171.py:45: DeprecationWarning: invalid escape sequence \\d\n",
      "  str = re.sub(\"\\d+\", \"\", str)\n",
      "/tmp/ipykernel_32361/690602171.py:54: DeprecationWarning: invalid escape sequence \\s\n",
      "  str = re.sub('[\\s]+', ' ', str)\n"
     ]
    }
   ],
   "source": [
    "# remove sentence which contains only one word\n",
    "def remove_sentence(str): \n",
    "    word = str.split()\n",
    "    wordCount = len(word)\n",
    "    if(wordCount<=1):\n",
    "        str = ''\n",
    "        \n",
    "    return str\n",
    "\n",
    "# change bahasa slang to bahasa\n",
    "def change_slang(str):\n",
    "    words = str.split()\n",
    "    new_words = []\n",
    "    for word in words:\n",
    "        if word in replacements:\n",
    "            new_words.append(replacements[word])\n",
    "        else:\n",
    "            new_words.append(word)\n",
    "    return \" \".join(new_words)\n",
    "\n",
    "# remove stopwords\n",
    "def remove_stopword(str):    \n",
    "    word_tokens = word_tokenize(str)\n",
    "    filtered_sentence = [w for w in word_tokens if not w in stop_words]\n",
    "    \n",
    "    return ' '.join(filtered_sentence)#remove sentence which contains only one word\n",
    "\n",
    "\n",
    "# cleaning text\n",
    "def cleaning(str):\n",
    "    # Remove mentions using regex\n",
    "    str = re.sub(r'@\\w+', '', str)\n",
    "    \n",
    "    #remove non-ascii\n",
    "    str = unicodedata.normalize('NFKD', str).encode('ascii', 'ignore').decode('utf-8', 'ignore')\n",
    "    \n",
    "    #remove URLs\n",
    "    str = re.sub(r'(?i)\\b((?:https?://|www\\d{0,3}[.]|[a-z0-9.\\-]+[.][a-z]{2,4}/)(?:[^\\s()<>]+|\\(([^\\s()<>]+|(\\([^\\s()<>]+\\)))*\\))+(?:\\(([^\\s()<>]+|(\\([^\\s()<>]+\\)))*\\)|[^\\s`!()\\[\\]{};:\\'\".,<>?«»“”‘’]))', '', str)\n",
    "\n",
    "    #remove punctuations\n",
    "    str = re.sub(r'[^\\w]|_',' ',str)\n",
    "    \n",
    "    #remove digit from string\n",
    "    # # str = re.sub(\"\\S*\\d\\S*\", \"\", str).strip()\n",
    "    str = re.sub(\"\\d+\", \"\", str)\n",
    "    \n",
    "    # #remove digit or numbers\n",
    "    str = re.sub(r\"\\b\\d+\\b\", \" \", str)\n",
    "    \n",
    "    # #to lowercase\n",
    "    str = str.lower()\n",
    "    \n",
    "    # #Remove additional white spaces\n",
    "    str = re.sub('[\\s]+', ' ', str)\n",
    "    \n",
    "    # menjadikan ke bentuk kata dasar\n",
    "    stemmer = StemmerFactory().create_stemmer()\n",
    "    str = stemmer.stem(str)\n",
    "    \n",
    "    # make it to list\n",
    "    # str = str.split()\n",
    "    \n",
    "    return str\n",
    "\n",
    "# preprocessing\n",
    "def preprocessing(str):\n",
    "    str = remove_sentence(str)\n",
    "    str = change_slang(str)\n",
    "    str = cleaning(str)\n",
    "    str = remove_stopword(str)\n",
    "    \n",
    "    return str\n",
    "\n",
    "# clean with progress bar\n",
    "def clean_with_loop(df):\n",
    "    df_clean = []\n",
    "    progress = tqdm(df)\n",
    "    for item in progress:\n",
    "        progress.set_description(\"Cleaning\")\n",
    "        df_clean.append(preprocessing(item))\n",
    "        \n",
    "    return df_clean"
   ]
  },
  {
   "cell_type": "code",
   "execution_count": 320,
   "metadata": {},
   "outputs": [
    {
     "name": "stderr",
     "output_type": "stream",
     "text": [
      "Cleaning: 100%|██████████| 2/2 [00:00<00:00, 40.52it/s]"
     ]
    },
    {
     "name": "stdout",
     "output_type": "stream",
     "text": [
      "gmna web aktif tp giat magang dana masuk gtu\n",
      "kerja daftar usaha ikutin interview follow up terima daftar terima dikabarin daftar msib harap apply kerja jarang abar daftar lolos dukung nyata adaptasi ambil ajar batch\n"
     ]
    },
    {
     "name": "stderr",
     "output_type": "stream",
     "text": [
      "\n"
     ]
    }
   ],
   "source": [
    "# test preprocessing\n",
    "sentences = [\n",
    "    \"@bchanh18_ mas kelanjutan nya gmna, di web nya Masi aktif? Tp ga ikut kegiatan magang? Nanti kalo pendanaan masuk gtu? Saya soalnya sama nih\",\n",
    "    \"kerja daftar banyak usaha ikutin interview follow up @asu terima karna daftar terima dikabarin daftar msib harap apply kerja jarang abar daftar lolos bukan dukung nyata lebih adaptasi ambil ajar batch\"\n",
    "]\n",
    "\n",
    "hasil = clean_with_loop(sentences)\n",
    "for item in hasil:\n",
    "    print(item)"
   ]
  },
  {
   "cell_type": "code",
   "execution_count": 321,
   "metadata": {},
   "outputs": [
    {
     "name": "stderr",
     "output_type": "stream",
     "text": [
      "Cleaning: 100%|██████████| 582/582 [00:11<00:00, 50.06it/s]\n"
     ]
    }
   ],
   "source": [
    "# do preprocessing on comment data\n",
    "clean_comment = clean_with_loop(df_comment)"
   ]
  },
  {
   "cell_type": "code",
   "execution_count": 322,
   "metadata": {},
   "outputs": [
    {
     "data": {
      "text/html": [
       "<div>\n",
       "<style scoped>\n",
       "    .dataframe tbody tr th:only-of-type {\n",
       "        vertical-align: middle;\n",
       "    }\n",
       "\n",
       "    .dataframe tbody tr th {\n",
       "        vertical-align: top;\n",
       "    }\n",
       "\n",
       "    .dataframe thead th {\n",
       "        text-align: right;\n",
       "    }\n",
       "</style>\n",
       "<table border=\"1\" class=\"dataframe\">\n",
       "  <thead>\n",
       "    <tr style=\"text-align: right;\">\n",
       "      <th></th>\n",
       "      <th>comment</th>\n",
       "    </tr>\n",
       "  </thead>\n",
       "  <tbody>\n",
       "    <tr>\n",
       "      <th>0</th>\n",
       "      <td>izin bertnya studi idenpenden mitra programing...</td>\n",
       "    </tr>\n",
       "    <tr>\n",
       "      <th>1</th>\n",
       "      <td>uang saku gaksih</td>\n",
       "    </tr>\n",
       "    <tr>\n",
       "      <th>2</th>\n",
       "      <td>kelas full english batch</td>\n",
       "    </tr>\n",
       "    <tr>\n",
       "      <th>3</th>\n",
       "      <td>lolos msib</td>\n",
       "    </tr>\n",
       "    <tr>\n",
       "      <th>4</th>\n",
       "      <td></td>\n",
       "    </tr>\n",
       "    <tr>\n",
       "      <th>...</th>\n",
       "      <td>...</td>\n",
       "    </tr>\n",
       "    <tr>\n",
       "      <th>577</th>\n",
       "      <td>tanggal bbrpa usaha nerima tunggu email ditelp</td>\n",
       "    </tr>\n",
       "    <tr>\n",
       "      <th>578</th>\n",
       "      <td>ush harap udh tanggal gin wkwk</td>\n",
       "    </tr>\n",
       "    <tr>\n",
       "      <th>579</th>\n",
       "      <td>asliii butuh</td>\n",
       "    </tr>\n",
       "    <tr>\n",
       "      <th>580</th>\n",
       "      <td>lolos survei info dimna</td>\n",
       "    </tr>\n",
       "    <tr>\n",
       "      <th>581</th>\n",
       "      <td>magang merdeka selesai tolong direspon biar harap</td>\n",
       "    </tr>\n",
       "  </tbody>\n",
       "</table>\n",
       "<p>582 rows × 1 columns</p>\n",
       "</div>"
      ],
      "text/plain": [
       "                                               comment\n",
       "0    izin bertnya studi idenpenden mitra programing...\n",
       "1                                     uang saku gaksih\n",
       "2                             kelas full english batch\n",
       "3                                           lolos msib\n",
       "4                                                     \n",
       "..                                                 ...\n",
       "577     tanggal bbrpa usaha nerima tunggu email ditelp\n",
       "578                     ush harap udh tanggal gin wkwk\n",
       "579                                       asliii butuh\n",
       "580                            lolos survei info dimna\n",
       "581  magang merdeka selesai tolong direspon biar harap\n",
       "\n",
       "[582 rows x 1 columns]"
      ]
     },
     "execution_count": 322,
     "metadata": {},
     "output_type": "execute_result"
    }
   ],
   "source": [
    "df_clean = pd.DataFrame(clean_comment, columns=['comment'])\n",
    "df_clean"
   ]
  },
  {
   "attachments": {},
   "cell_type": "markdown",
   "metadata": {},
   "source": [
    "## (Part 2): Modeling using LDA"
   ]
  },
  {
   "cell_type": "code",
   "execution_count": 323,
   "metadata": {},
   "outputs": [],
   "source": [
    "import gensim\n",
    "from gensim.models import Phrases\n",
    "from gensim import corpora, models\n"
   ]
  },
  {
   "cell_type": "code",
   "execution_count": 324,
   "metadata": {},
   "outputs": [],
   "source": [
    "text_list = [i.split() for i in df_clean['comment']]"
   ]
  },
  {
   "cell_type": "code",
   "execution_count": 325,
   "metadata": {},
   "outputs": [],
   "source": [
    "# Add bigrams and trigrams to docs,minimum count 10 means only that appear 10 times or more.\n",
    "bigram = Phrases(text_list, min_count=10)\n",
    "trigram = Phrases(bigram[text_list])\n",
    "for idx in range(len(text_list)):\n",
    "    for token in bigram[text_list[idx]]:\n",
    "        if '_' in token:\n",
    "            # Token is a bigram, add to document.\n",
    "            text_list[idx].append(token)\n",
    "    for token in trigram[text_list[idx]]:\n",
    "        if '_' in token:\n",
    "            # Token is a bigram, add to document.\n",
    "            text_list[idx].append(token)"
   ]
  },
  {
   "cell_type": "code",
   "execution_count": 326,
   "metadata": {},
   "outputs": [
    {
     "name": "stdout",
     "output_type": "stream",
     "text": [
      "Dictionary(219 unique tokens: ['izin', 'mitra', 'studi', 'saku', 'uang']...)\n"
     ]
    }
   ],
   "source": [
    "# Create a dictionary representation of the documents.\n",
    "dictionary = corpora.Dictionary(text_list)\n",
    "dictionary.filter_extremes(no_below=5, no_above=0.2) \n",
    "#no_below (int, optional) – Keep tokens which are contained in at least no_below documents.\n",
    "#no_above (float, optional) – Keep tokens which are contained in no more than no_above documents (fraction of total corpus size, not an absolute number).\n",
    "print(dictionary)"
   ]
  },
  {
   "cell_type": "code",
   "execution_count": 327,
   "metadata": {},
   "outputs": [
    {
     "name": "stdout",
     "output_type": "stream",
     "text": [
      "582\n",
      "[(27, 1), (28, 1), (29, 1)]\n"
     ]
    }
   ],
   "source": [
    "#https://radimrehurek.com/gensim/tut1.html \n",
    "#build corpus\n",
    "# Converting list of documents (corpus) into Document Term Matrix using dictionary prepared above.\n",
    "doc_term_matrix = [dictionary.doc2bow(doc) for doc in text_list]\n",
    "#The function doc2bow converts document (a list of words) into the bag-of-words format\n",
    "'''The function doc2bow() simply counts the number of occurrences of each distinct word, \n",
    "converts the word to its integer word id and returns the result as a sparse vector. \n",
    "The sparse vector [(0, 1), (1, 1)] therefore reads: in the document “Human computer interaction”, \n",
    "the words computer (id 0) and human (id 1) appear once; \n",
    "the other ten dictionary words appear (implicitly) zero times.\n",
    "'''\n",
    "\n",
    "print(len(doc_term_matrix))\n",
    "print(doc_term_matrix[100])\n",
    "tfidf = models.TfidfModel(doc_term_matrix) #build TF-IDF model\n",
    "corpus_tfidf = tfidf[doc_term_matrix]"
   ]
  },
  {
   "cell_type": "code",
   "execution_count": 328,
   "metadata": {},
   "outputs": [],
   "source": [
    "from gensim.models.coherencemodel import CoherenceModel\n",
    "from gensim.models.ldamodel import LdaModel\n",
    "from gensim.corpora.dictionary import Dictionary\n",
    "from numpy import array\n",
    "#function to compute coherence values\n",
    "def compute_coherence_values(dictionary, corpus, texts, limit, start, step):\n",
    "    coherence_values = []\n",
    "    model_list = []\n",
    "    for num_topics in tqdm(range(start, limit, step)):\n",
    "        model = LdaModel(corpus=corpus, id2word=dictionary, num_topics=num_topics, iterations=100)\n",
    "        model_list.append(model)\n",
    "        coherencemodel = CoherenceModel(model=model, texts=texts, dictionary=dictionary, coherence='c_v')\n",
    "        coherence_values.append(coherencemodel.get_coherence())\n",
    "        \n",
    "    return model_list, coherence_values"
   ]
  },
  {
   "cell_type": "code",
   "execution_count": 329,
   "metadata": {},
   "outputs": [
    {
     "name": "stderr",
     "output_type": "stream",
     "text": [
      "100%|██████████| 20/20 [00:29<00:00,  1.47s/it]\n"
     ]
    }
   ],
   "source": [
    "start=1\n",
    "limit=21\n",
    "step=1\n",
    "model_list, coherence_values = compute_coherence_values(dictionary, corpus=corpus_tfidf, texts=text_list, start=start, limit=limit, step=step)"
   ]
  },
  {
   "cell_type": "code",
   "execution_count": 330,
   "metadata": {},
   "outputs": [
    {
     "data": {
      "image/png": "[encoded data removed]",
      "text/plain": [
       "<Figure size 432x288 with 1 Axes>"
      ]
     },
     "metadata": {
      "needs_background": "light"
     },
     "output_type": "display_data"
    }
   ],
   "source": [
    "x = range(start, limit, step)\n",
    "plt.plot(x, coherence_values)\n",
    "plt.xlabel(\"Num Topics\")\n",
    "plt.ylabel(\"Coherence score\")\n",
    "plt.legend((\"coherence_values\"), loc='best')\n",
    "plt.show()"
   ]
  },
  {
   "cell_type": "code",
   "execution_count": 331,
   "metadata": {},
   "outputs": [
    {
     "name": "stdout",
     "output_type": "stream",
     "text": [
      "Num Topics = 1  has Coherence Value of 0.369893\n",
      "Num Topics = 2  has Coherence Value of 0.367832\n",
      "Num Topics = 3  has Coherence Value of 0.372641\n",
      "Num Topics = 4  has Coherence Value of 0.366911\n",
      "Num Topics = 5  has Coherence Value of 0.390456\n",
      "Num Topics = 6  has Coherence Value of 0.424965\n",
      "Num Topics = 7  has Coherence Value of 0.412818\n",
      "Num Topics = 8  has Coherence Value of 0.402017\n",
      "Num Topics = 9  has Coherence Value of 0.430471\n",
      "Num Topics = 10  has Coherence Value of 0.4057\n",
      "Num Topics = 11  has Coherence Value of 0.404925\n",
      "Num Topics = 12  has Coherence Value of 0.385181\n",
      "Num Topics = 13  has Coherence Value of 0.414026\n",
      "Num Topics = 14  has Coherence Value of 0.39816\n",
      "Num Topics = 15  has Coherence Value of 0.402939\n",
      "Num Topics = 16  has Coherence Value of 0.412808\n",
      "Num Topics = 17  has Coherence Value of 0.408882\n",
      "Num Topics = 18  has Coherence Value of 0.423351\n",
      "Num Topics = 19  has Coherence Value of 0.398161\n",
      "Num Topics = 20  has Coherence Value of 0.425229\n"
     ]
    }
   ],
   "source": [
    "# Print the coherence scores\n",
    "for m, cv in zip(x, coherence_values):\n",
    "    print(\"Num Topics =\", m, \" has Coherence Value of\", round(cv, 6))"
   ]
  },
  {
   "attachments": {},
   "cell_type": "markdown",
   "metadata": {},
   "source": [
    "### Building the LDA Model"
   ]
  },
  {
   "cell_type": "code",
   "execution_count": 332,
   "metadata": {},
   "outputs": [
    {
     "name": "stdout",
     "output_type": "stream",
     "text": [
      "Topic: 0 Word: 0.039*\"proses\" + 0.034*\"terima\" + 0.024*\"kampus_merdeka\" + 0.024*\"berkas\" + 0.015*\"seleksi\" + 0.014*\"wkwk\" + 0.013*\"tanggal\" + 0.013*\"kampus\" + 0.012*\"status\" + 0.012*\"informasi\"\n",
      "Topic: 1 Word: 0.024*\"offering\" + 0.021*\"kasih\" + 0.020*\"moga\" + 0.019*\"proses\" + 0.018*\"mitra\" + 0.017*\"lolos\" + 0.017*\"semangat\" + 0.017*\"udh\" + 0.016*\"kabar\" + 0.015*\"msib\"\n",
      "Topic: 2 Word: 0.030*\"msib\" + 0.027*\"mitra\" + 0.022*\"lolos\" + 0.020*\"salah\" + 0.018*\"dokumen\" + 0.017*\"mahasiswa\" + 0.014*\"daftar\" + 0.014*\"status\" + 0.013*\"proses\" + 0.013*\"banding\"\n"
     ]
    }
   ],
   "source": [
    "model = LdaModel(corpus=corpus_tfidf, id2word=dictionary, num_topics=3) \n",
    "# num topic menyesuaikan hasil dari coherence value paling tinggi\n",
    "\n",
    "for idx, topic in model.print_topics(-1):\n",
    "    print('Topic: {} Word: {}'.format(idx, topic)) "
   ]
  },
  {
   "attachments": {},
   "cell_type": "markdown",
   "metadata": {},
   "source": [
    "### Save top words per topic"
   ]
  },
  {
   "cell_type": "code",
   "execution_count": 333,
   "metadata": {},
   "outputs": [],
   "source": [
    "import pandas as pd\n",
    "top_words_per_topic = []\n",
    "for t in range(model.num_topics):\n",
    "    top_words_per_topic.extend([(t, ) + x for x in model.show_topic(t, topn = 10)])#pd.DataFrame(top_words_per_topic, columns=['Topic', 'Word', 'P']).to_csv(\"top_words.csv\")\n",
    "pd.DataFrame(top_words_per_topic, columns=['Topic', 'Word','P']).to_csv(\"output/top_words.csv\")"
   ]
  },
  {
   "cell_type": "code",
   "execution_count": 334,
   "metadata": {},
   "outputs": [
    {
     "name": "stderr",
     "output_type": "stream",
     "text": [
      "/home/sugab/anaconda3/lib/python3.9/site-packages/pyLDAvis/_prepare.py:243: FutureWarning: In a future version of pandas all arguments of DataFrame.drop except for the argument 'labels' will be keyword-only.\n",
      "  default_term_info = default_term_info.sort_values(\n"
     ]
    },
    {
     "name": "stdout",
     "output_type": "stream",
     "text": [
      "PreparedData(topic_coordinates=              x         y  topics  cluster       Freq\n",
      "topic                                                \n",
      "0     -0.035410  0.038688       1        1  35.961413\n",
      "2     -0.020288 -0.046388       2        1  34.187754\n",
      "1      0.055698  0.007699       3        1  29.850833, topic_info=               Term       Freq      Total Category  logprob  loglift\n",
      "161        offering   8.000000   8.000000  Default  30.0000  30.0000\n",
      "176  kampus_merdeka   9.000000   9.000000  Default  29.0000  29.0000\n",
      "179            moga   7.000000   7.000000  Default  28.0000  28.0000\n",
      "102         dokumen   7.000000   7.000000  Default  27.0000  27.0000\n",
      "18           terima  18.000000  18.000000  Default  26.0000  26.0000\n",
      "..              ...        ...        ...      ...      ...      ...\n",
      "129           salah   2.911958  12.975838   Topic3  -4.5868  -0.2853\n",
      "4              uang   2.246744   5.054671   Topic3  -4.8462   0.3981\n",
      "14             info   2.217002   6.413148   Topic3  -4.8595   0.1468\n",
      "67            harap   2.231842  10.270539   Topic3  -4.8528  -0.3175\n",
      "81           berkas   2.229566  12.211602   Topic3  -4.8538  -0.4916\n",
      "\n",
      "[177 rows x 6 columns], token_table=      Topic      Freq   Term\n",
      "term                        \n",
      "32        2  0.605471  aktif\n",
      "32        3  0.302735  aktif\n",
      "66        1  0.157104   arti\n",
      "66        2  0.628415   arti\n",
      "66        3  0.314208   arti\n",
      "...     ...       ...    ...\n",
      "13        3  0.249581   wkwk\n",
      "20        1  0.198495    yaa\n",
      "20        2  0.396990    yaa\n",
      "20        3  0.396990    yaa\n",
      "174       3  0.801564    yah\n",
      "\n",
      "[302 rows x 3 columns], R=30, lambda_step=0.01, plot_opts={'xlab': 'PC1', 'ylab': 'PC2'}, topic_order=[1, 3, 2])\n"
     ]
    }
   ],
   "source": [
    "import gensim\n",
    "import pyLDAvis.gensim;pyLDAvis.enable_notebook()\n",
    "\n",
    "data = pyLDAvis.gensim.prepare(model, corpus_tfidf, dictionary)\n",
    "print(data)\n",
    "pyLDAvis.save_html(data, 'output/lda-gensim.html')"
   ]
  },
  {
   "attachments": {},
   "cell_type": "markdown",
   "metadata": {},
   "source": [
    "### Apply LDA Model for Labeling"
   ]
  },
  {
   "cell_type": "code",
   "execution_count": 335,
   "metadata": {},
   "outputs": [
    {
     "name": "stdout",
     "output_type": "stream",
     "text": [
      "Topic 0: proses terima kampus_merdeka berkas seleksi wkwk tanggal kampus status informasi\n",
      "Topic 1: offering kasih moga proses mitra lolos semangat udh kabar msib\n",
      "Topic 2: msib mitra lolos salah dokumen mahasiswa daftar status proses banding\n"
     ]
    }
   ],
   "source": [
    "# Interpret the topics\n",
    "for idx, topic in model.print_topics(num_topics=10):\n",
    "    topic_words = topic.split(\"+\")\n",
    "    top_words = [re.findall(r'\"([^\"]*)\"', word)[0] for word in topic_words]\n",
    "    print(f'Topic {idx}: {\" \".join(top_words)}')"
   ]
  },
  {
   "cell_type": "code",
   "execution_count": 336,
   "metadata": {},
   "outputs": [],
   "source": [
    "df_with_topic = df[['comment']]"
   ]
  },
  {
   "cell_type": "code",
   "execution_count": 337,
   "metadata": {},
   "outputs": [
    {
     "name": "stderr",
     "output_type": "stream",
     "text": [
      "/tmp/ipykernel_32361/2701166537.py:1: SettingWithCopyWarning: \n",
      "A value is trying to be set on a copy of a slice from a DataFrame.\n",
      "Try using .loc[row_indexer,col_indexer] = value instead\n",
      "\n",
      "See the caveats in the documentation: https://pandas.pydata.org/pandas-docs/stable/user_guide/indexing.html#returning-a-view-versus-a-copy\n",
      "  df_with_topic['clean'] = df_clean['comment']\n"
     ]
    }
   ],
   "source": [
    "df_with_topic['clean'] = df_clean['comment']"
   ]
  },
  {
   "cell_type": "code",
   "execution_count": 338,
   "metadata": {},
   "outputs": [
    {
     "name": "stderr",
     "output_type": "stream",
     "text": [
      "/tmp/ipykernel_32361/3644471848.py:3: SettingWithCopyWarning: \n",
      "A value is trying to be set on a copy of a slice from a DataFrame.\n",
      "Try using .loc[row_indexer,col_indexer] = value instead\n",
      "\n",
      "See the caveats in the documentation: https://pandas.pydata.org/pandas-docs/stable/user_guide/indexing.html#returning-a-view-versus-a-copy\n",
      "  df_with_topic['topic'] = [max(probs, key=lambda x:x[1])[0] for probs in topic_probs]\n"
     ]
    }
   ],
   "source": [
    "# Label the data based on the topics\n",
    "topic_probs = [model.get_document_topics(doc) for doc in doc_term_matrix]\n",
    "df_with_topic['topic'] = [max(probs, key=lambda x:x[1])[0] for probs in topic_probs]"
   ]
  },
  {
   "cell_type": "code",
   "execution_count": 339,
   "metadata": {},
   "outputs": [
    {
     "data": {
      "text/html": [
       "<div>\n",
       "<style scoped>\n",
       "    .dataframe tbody tr th:only-of-type {\n",
       "        vertical-align: middle;\n",
       "    }\n",
       "\n",
       "    .dataframe tbody tr th {\n",
       "        vertical-align: top;\n",
       "    }\n",
       "\n",
       "    .dataframe thead th {\n",
       "        text-align: right;\n",
       "    }\n",
       "</style>\n",
       "<table border=\"1\" class=\"dataframe\">\n",
       "  <thead>\n",
       "    <tr style=\"text-align: right;\">\n",
       "      <th></th>\n",
       "      <th>comment</th>\n",
       "      <th>clean</th>\n",
       "      <th>topic</th>\n",
       "    </tr>\n",
       "  </thead>\n",
       "  <tbody>\n",
       "    <tr>\n",
       "      <th>0</th>\n",
       "      <td>Izin bertnya apakah studi idenpenden mitra pro...</td>\n",
       "      <td>izin bertnya studi idenpenden mitra programing...</td>\n",
       "      <td>2</td>\n",
       "    </tr>\n",
       "    <tr>\n",
       "      <th>1</th>\n",
       "      <td>Dapat uang saku gaksih</td>\n",
       "      <td>uang saku gaksih</td>\n",
       "      <td>1</td>\n",
       "    </tr>\n",
       "    <tr>\n",
       "      <th>2</th>\n",
       "      <td>@rwrt1.0 kelas full english kak batch ini</td>\n",
       "      <td>kelas full english batch</td>\n",
       "      <td>0</td>\n",
       "    </tr>\n",
       "    <tr>\n",
       "      <th>3</th>\n",
       "      <td>Saya, saya bang ga lolos msib</td>\n",
       "      <td>lolos msib</td>\n",
       "      <td>2</td>\n",
       "    </tr>\n",
       "    <tr>\n",
       "      <th>4</th>\n",
       "      <td>🔥🔥</td>\n",
       "      <td></td>\n",
       "      <td>0</td>\n",
       "    </tr>\n",
       "    <tr>\n",
       "      <th>...</th>\n",
       "      <td>...</td>\n",
       "      <td>...</td>\n",
       "      <td>...</td>\n",
       "    </tr>\n",
       "    <tr>\n",
       "      <th>577</th>\n",
       "      <td>@spontanahuy tanggal 15 terakhirnya 🙏🏻 ada bbr...</td>\n",
       "      <td>tanggal bbrpa usaha nerima tunggu email ditelp</td>\n",
       "      <td>1</td>\n",
       "    </tr>\n",
       "    <tr>\n",
       "      <th>578</th>\n",
       "      <td>@spontanahuy ga ush berharap lgi udh tgl segin...</td>\n",
       "      <td>ush harap udh tanggal gin wkwk</td>\n",
       "      <td>0</td>\n",
       "    </tr>\n",
       "    <tr>\n",
       "      <th>579</th>\n",
       "      <td>@spontanahuy asliii butuh kepastian</td>\n",
       "      <td>asliii butuh</td>\n",
       "      <td>2</td>\n",
       "    </tr>\n",
       "    <tr>\n",
       "      <th>580</th>\n",
       "      <td>Siapa saja yg lolos utk ikut survei diinfokan ...</td>\n",
       "      <td>lolos survei info dimna</td>\n",
       "      <td>2</td>\n",
       "    </tr>\n",
       "    <tr>\n",
       "      <th>581</th>\n",
       "      <td>Jadi min untuk pengumuman magang merdeka nya u...</td>\n",
       "      <td>magang merdeka selesai tolong direspon biar harap</td>\n",
       "      <td>1</td>\n",
       "    </tr>\n",
       "  </tbody>\n",
       "</table>\n",
       "<p>582 rows × 3 columns</p>\n",
       "</div>"
      ],
      "text/plain": [
       "                                               comment  \\\n",
       "0    Izin bertnya apakah studi idenpenden mitra pro...   \n",
       "1                               Dapat uang saku gaksih   \n",
       "2            @rwrt1.0 kelas full english kak batch ini   \n",
       "3                        Saya, saya bang ga lolos msib   \n",
       "4                                                   🔥🔥   \n",
       "..                                                 ...   \n",
       "577  @spontanahuy tanggal 15 terakhirnya 🙏🏻 ada bbr...   \n",
       "578  @spontanahuy ga ush berharap lgi udh tgl segin...   \n",
       "579                @spontanahuy asliii butuh kepastian   \n",
       "580  Siapa saja yg lolos utk ikut survei diinfokan ...   \n",
       "581  Jadi min untuk pengumuman magang merdeka nya u...   \n",
       "\n",
       "                                                 clean  topic  \n",
       "0    izin bertnya studi idenpenden mitra programing...      2  \n",
       "1                                     uang saku gaksih      1  \n",
       "2                             kelas full english batch      0  \n",
       "3                                           lolos msib      2  \n",
       "4                                                           0  \n",
       "..                                                 ...    ...  \n",
       "577     tanggal bbrpa usaha nerima tunggu email ditelp      1  \n",
       "578                     ush harap udh tanggal gin wkwk      0  \n",
       "579                                       asliii butuh      2  \n",
       "580                            lolos survei info dimna      2  \n",
       "581  magang merdeka selesai tolong direspon biar harap      1  \n",
       "\n",
       "[582 rows x 3 columns]"
      ]
     },
     "execution_count": 339,
     "metadata": {},
     "output_type": "execute_result"
    }
   ],
   "source": [
    "df_with_topic"
   ]
  },
  {
   "cell_type": "code",
   "execution_count": 340,
   "metadata": {},
   "outputs": [],
   "source": [
    "df_with_topic.to_csv('output/df_with_topic.csv')"
   ]
  }
 ],
 "metadata": {
  "kernelspec": {
   "display_name": "base",
   "language": "python",
   "name": "python3"
  },
  "language_info": {
   "codemirror_mode": {
    "name": "ipython",
    "version": 3
   },
   "file_extension": ".py",
   "mimetype": "text/x-python",
   "name": "python",
   "nbconvert_exporter": "python",
   "pygments_lexer": "ipython3",
   "version": "3.9.12 (main, Apr  5 2022, 06:56:58) \n[GCC 7.5.0]"
  },
  "orig_nbformat": 4,
  "vscode": {
   "interpreter": {
    "hash": "f1961e4fab7c657ac053f9fdb2ae9561ee61e35aef124aaa5e4d96292a32a9f5"
   }
  }
 },
 "nbformat": 4,
 "nbformat_minor": 2
}
